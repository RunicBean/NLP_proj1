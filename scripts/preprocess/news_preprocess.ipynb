{
 "cells": [
  {
   "cell_type": "code",
   "execution_count": 1,
   "metadata": {},
   "outputs": [],
   "source": [
    "import re\n",
    "import os, sys\n",
    "import pandas as pd\n",
    "import random\n",
    "import jieba"
   ]
  },
  {
   "cell_type": "code",
   "execution_count": 13,
   "metadata": {},
   "outputs": [],
   "source": [
    "csv_data = pd.read_csv(\"sqlResult_1558435.csv\", usecols=[\"id\",\"title\",\"content\"], encoding=\"gb18030\")\n",
    "articles = csv_data[\"content\"]\n",
    "titles = csv_data[\"title\"].tolist()\n",
    "doc_ids = csv_data[\"id\"].tolist()"
   ]
  },
  {
   "cell_type": "code",
   "execution_count": 3,
   "metadata": {},
   "outputs": [],
   "source": [
    "def read_articles(articles):\n",
    "    docs_idx_dict = {}\n",
    "    for idx, content in enumerate(articles):\n",
    "        if pd.isna(content): continue\n",
    "        try:\n",
    "            content = content.replace(\"\\u3000\", \"\").strip()\n",
    "            content = re.sub(\"\\t\", \" \", content)\n",
    "            content = re.sub(\"\\s+\", \" \", content)\n",
    "            content = content.replace(r\"\\n\", \"\\n\").replace(r\"\\\\n\", \"\").replace(\"\\r\\n\", \"\\n\").replace(\"\\n\\n\", \"\\n\")\n",
    "            if not content or content == \"\\n\": continue\n",
    "            docs_idx_dict[idx] = content\n",
    "        except Exception as e:\n",
    "            print(str(e) + \"\\n\" + str(content))\n",
    "    return docs_idx_dict"
   ]
  },
  {
   "cell_type": "code",
   "execution_count": 4,
   "metadata": {},
   "outputs": [],
   "source": [
    "def ssplit(text):\n",
    "    text = re.sub('([。！？\\?])([^”’])', r\"\\1\\n\\2\", text)\n",
    "    text = re.sub('(\\.{6})([^”’])', r\"\\1\\n\\2\", text)\n",
    "    text = re.sub('(\\…{2})([^”’])', r\"\\1\\n\\2\", text)\n",
    "    text = re.sub('([。！？\\?][”’])([^，。！？\\?])', r'\\1\\n\\2', text)\n",
    "    return text"
   ]
  },
  {
   "cell_type": "code",
   "execution_count": 5,
   "metadata": {},
   "outputs": [
    {
     "name": "stderr",
     "output_type": "stream",
     "text": [
      "Building prefix dict from the default dictionary ...\n",
      "Loading model from cache /home/fxz/anaconda3/envs/text_preprocess/lib/python3.6/site-packages/jieba/cache/jieba.cache\n",
      "Loading model cost 0.837 seconds.\n",
      "Prefix dict has been built successfully.\n"
     ]
    }
   ],
   "source": [
    "docs_dict = read_articles(articles)\n",
    "csv_list = []\n",
    "for idx, content in docs_dict.items():\n",
    "    content_tokenized = []\n",
    "    content = ssplit(content).split(\"\\n\")\n",
    "    for line in content:\n",
    "        if not line or line == \"\\n\": continue\n",
    "        line = \" \".join(list(jieba.cut(line, use_paddle=True)))\n",
    "        content_tokenized.append(line)\n",
    "    doc_info_dict = {\"doc_id\": idx, \"title\": titles[idx], \"content\": \"\\n\".join(content_tokenized)}\n",
    "    csv_list.append(doc_info_dict)\n",
    "result_data = pd.DataFrame(csv_list, columns=[\"doc_id\", \"title\", \"content\"])"
   ]
  },
  {
   "cell_type": "code",
   "execution_count": 6,
   "metadata": {},
   "outputs": [],
   "source": [
    "result_data.to_csv(\"news_tokenized.csv\",index=False,sep=',')"
   ]
  },
  {
   "cell_type": "code",
   "execution_count": 16,
   "metadata": {},
   "outputs": [
    {
     "data": {
      "text/plain": [
       "doc_id     0\n",
       "title      0\n",
       "content    0\n",
       "dtype: int64"
      ]
     },
     "execution_count": 16,
     "metadata": {},
     "output_type": "execute_result"
    }
   ],
   "source": [
    "result_data.isnull().sum()"
   ]
  },
  {
   "cell_type": "code",
   "execution_count": null,
   "metadata": {},
   "outputs": [],
   "source": []
  }
 ],
 "metadata": {
  "kernelspec": {
   "display_name": "text_preprocess",
   "language": "python",
   "name": "text_preprocess"
  },
  "language_info": {
   "codemirror_mode": {
    "name": "ipython",
    "version": 3
   },
   "file_extension": ".py",
   "mimetype": "text/x-python",
   "name": "python",
   "nbconvert_exporter": "python",
   "pygments_lexer": "ipython3",
   "version": "3.6.8"
  }
 },
 "nbformat": 4,
 "nbformat_minor": 2
}
